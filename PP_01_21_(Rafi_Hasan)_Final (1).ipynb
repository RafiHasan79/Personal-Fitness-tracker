{
 "cells": [
  {
   "cell_type": "code",
   "execution_count": 13,
   "metadata": {},
   "outputs": [],
   "source": [
    "import pandas as pd\n",
    "import matplotlib.pyplot as plt\n",
    "import datetime\n",
    "import random"
   ]
  },
  {
   "cell_type": "code",
   "execution_count": 14,
   "metadata": {},
   "outputs": [],
   "source": [
    "# Initialize an empty list to store the data\n",
    "data = []\n",
    "\n",
    "# Initialize fitness goals (you can modify these defaults)\n",
    "fitness_goals = {\n",
    "    'daily_calories_burned': 500,\n",
    "    'weekly_duration': 150  # in minutes\n",
    "}"
   ]
  },
  {
   "cell_type": "code",
   "execution_count": 15,
   "metadata": {},
   "outputs": [],
   "source": [
    "# Health tips\n",
    "health_tips = [\n",
    "    \"Drink plenty of water throughout the day.\",\n",
    "    \"Incorporate at least 30 minutes of physical activity daily.\",\n",
    "    \"Include more fruits and vegetables in your meals.\",\n",
    "    \"Get at least 7-8 hours of quality sleep every night.\",\n",
    "    \"Take short breaks during long periods of sitting to stretch and move around.\"\n",
    "]"
   ]
  },
  {
   "cell_type": "code",
   "execution_count": 16,
   "metadata": {},
   "outputs": [],
   "source": [
    "def log_activity():\n",
    "    date = input(\"Enter Date (YYYY-MM-DD): \")\n",
    "    activity = input(\"Enter Activity Name: \")\n",
    "    duration = int(input(\"Enter Duration (in minute): \"))\n",
    "    calories = int(input(\"Enter Calories burned: \"))\n",
    "    data.append([date, activity, duration, calories])\n",
    "\n",
    "def view_activity_history():\n",
    "    df = pd.DataFrame(data, columns=['Date', 'Activity Name', 'Duration (in minute)', 'Calories burned'])\n",
    "    print(df)\n",
    "\n",
    "def set_fitness_goals():\n",
    "    print(\"Current Fitness Goals:\")\n",
    "    for goal, value in fitness_goals.items():\n",
    "        print(f\"{goal}: {value}\")\n",
    "\n",
    "    goal_to_update = input(\"Enter the goal you want to update (Daily, Weekly or type 'skip' to skip): \")\n",
    "    if goal_to_update != 'skip':\n",
    "        new_value = int(input(f\"Enter the new value for {goal_to_update}: \"))\n",
    "        fitness_goals[goal_to_update] = new_value\n",
    "        print(\"Fitness goals updated!\")\n",
    "\n",
    "def view_progress_reports():\n",
    "    df = pd.DataFrame(data, columns=['Date', 'Activity Name', 'Duration (in minute)', 'Calories burned'])\n",
    "    df['Date'] = pd.to_datetime(df['Date'])  # Convert 'Date' column to datetime\n",
    "\n",
    "    # Weekly summary\n",
    "    weekly_summary = df.groupby(pd.Grouper(key='Date', freq='W-MON'))[['Duration (in minute)', 'Calories burned']].sum()\n",
    "    print(\"\\nWeekly Summary:\")\n",
    "    print(weekly_summary)\n",
    "\n",
    "    # Monthly summary table\n",
    "    monthly_summary = df.groupby(pd.Grouper(key='Date', freq='M'))[['Duration (in minute)', 'Calories burned']].sum()\n",
    "    print(\"\\nMonthly Summary Table:\")\n",
    "    print(monthly_summary)\n",
    "\n",
    "    # Compare weekly duration with goal\n",
    "    if not weekly_summary.empty:\n",
    "        current_week_duration = weekly_summary['Duration (in minute)'].iloc[-1]  # Get duration for the most recent week\n",
    "        print(f\"\\nCurrent Week's Activity Duration: {current_week_duration} minutes\")\n",
    "        print(f\"Weekly Goal: {fitness_goals['weekly_duration']} minutes\")\n",
    "\n",
    "        if current_week_duration >= fitness_goals['weekly_duration']:\n",
    "            print(\"Congratulations! You've met your weekly duration goal.\")\n",
    "        else:\n",
    "            print(\"Keep pushing! You're still working towards your weekly duration goal.\")\n",
    "\n",
    "    # Plot progress\n",
    "    if not weekly_summary.empty:\n",
    "        weekly_summary['Duration (in minute)'].plot(kind='line', title='Weekly Activity Duration', marker='o')\n",
    "        plt.ylabel('Duration (in minutes)')\n",
    "        plt.xlabel('Week')\n",
    "        plt.grid(True)\n",
    "        plt.show()"
   ]
  },
  {
   "cell_type": "code",
   "execution_count": 17,
   "metadata": {},
   "outputs": [],
   "source": [
    "def save_to_csv():\n",
    "    df = pd.DataFrame(data, columns=['Date', 'Activity Name', 'Duration (in minute)', 'Calories burned'])\n",
    "    df.to_csv('activity_log.csv', index=False)\n",
    "    print(\"Data saved to activity_log.csv\")"
   ]
  },
  {
   "cell_type": "code",
   "execution_count": 18,
   "metadata": {},
   "outputs": [],
   "source": [
    "def calculate_bmi():\n",
    "    height = float(input(\"Enter your height in meters: \"))\n",
    "    weight = float(input(\"Enter your weight in kilograms: \"))\n",
    "    age = int(input(\"Enter your age: \"))\n",
    "\n",
    "    bmi = weight / (height ** 2)\n",
    "    print(f\"Your BMI is: {bmi:.2f}\")\n",
    "\n",
    "    if bmi < 18.5:\n",
    "        print(\"You are underweight. Consider consulting a healthcare provider for advice.\")\n",
    "    elif 18.5 <= bmi < 24.9:\n",
    "        print(\"You have a normal weight. Keep up the good work!\")\n",
    "    elif 25 <= bmi < 29.9:\n",
    "        print(\"You are overweight. Incorporate more physical activity and a balanced diet.\")\n",
    "    else:\n",
    "        print(\"You are obese. Consult a healthcare provider for a tailored plan.\")"
   ]
  },
  {
   "cell_type": "code",
   "execution_count": 19,
   "metadata": {},
   "outputs": [],
   "source": [
    "def provide_health_tip():\n",
    "    tip = random.choice(health_tips)\n",
    "    print(f\"Today's Health Tip: {tip}\")"
   ]
  },
  {
   "cell_type": "code",
   "execution_count": 20,
   "metadata": {},
   "outputs": [],
   "source": [
    "def recommend_exercise():\n",
    "    available_time = int(input(\"Enter the time you have available (in minutes): \"))\n",
    "    calorie_target = int(input(\"Enter your calorie-burning target: \"))\n",
    "\n",
    "    print(\"Recommended Activities:\")\n",
    "    if available_time >= 30:\n",
    "        print(\"- Jogging (30 minutes): Burns approximately 300 calories.\")\n",
    "    if calorie_target >= 200:\n",
    "        print(\"- Cycling (20 minutes): Burns approximately 200 calories.\")\n",
    "    if available_time < 15:\n",
    "        print(\"- Quick HIIT workout (10 minutes): Burns approximately 100 calories.\")"
   ]
  },
  {
   "cell_type": "code",
   "execution_count": 21,
   "metadata": {},
   "outputs": [
    {
     "name": "stdout",
     "output_type": "stream",
     "text": [
      "\n",
      "Menu:\n",
      "1. Log a new activity\n",
      "2. View Activity history\n",
      "3. Set and update fitness goals\n",
      "4. View progress reports\n",
      "5. Save Data to CSV\n",
      "6. Calculate BMI\n",
      "7. Get a Health Tip\n",
      "8. Get Exercise Recommendations\n",
      "9. Exit\n"
     ]
    },
    {
     "name": "stdin",
     "output_type": "stream",
     "text": [
      "Enter your choice:  2025-12-10\n"
     ]
    },
    {
     "name": "stdout",
     "output_type": "stream",
     "text": [
      "Invalid choice. Please try again.\n",
      "\n",
      "Menu:\n",
      "1. Log a new activity\n",
      "2. View Activity history\n",
      "3. Set and update fitness goals\n",
      "4. View progress reports\n",
      "5. Save Data to CSV\n",
      "6. Calculate BMI\n",
      "7. Get a Health Tip\n",
      "8. Get Exercise Recommendations\n",
      "9. Exit\n"
     ]
    },
    {
     "name": "stdin",
     "output_type": "stream",
     "text": [
      "Enter your choice:  2\n"
     ]
    },
    {
     "name": "stdout",
     "output_type": "stream",
     "text": [
      "Empty DataFrame\n",
      "Columns: [Date, Activity Name, Duration (in minute), Calories burned]\n",
      "Index: []\n",
      "\n",
      "Menu:\n",
      "1. Log a new activity\n",
      "2. View Activity history\n",
      "3. Set and update fitness goals\n",
      "4. View progress reports\n",
      "5. Save Data to CSV\n",
      "6. Calculate BMI\n",
      "7. Get a Health Tip\n",
      "8. Get Exercise Recommendations\n",
      "9. Exit\n"
     ]
    },
    {
     "name": "stdin",
     "output_type": "stream",
     "text": [
      "Enter your choice:  1\n",
      "Enter Date (YYYY-MM-DD):  2025-12-11\n",
      "Enter Activity Name:  walking\n",
      "Enter Duration (in minute):  30\n",
      "Enter Calories burned:  500\n"
     ]
    },
    {
     "name": "stdout",
     "output_type": "stream",
     "text": [
      "\n",
      "Menu:\n",
      "1. Log a new activity\n",
      "2. View Activity history\n",
      "3. Set and update fitness goals\n",
      "4. View progress reports\n",
      "5. Save Data to CSV\n",
      "6. Calculate BMI\n",
      "7. Get a Health Tip\n",
      "8. Get Exercise Recommendations\n",
      "9. Exit\n"
     ]
    },
    {
     "name": "stdin",
     "output_type": "stream",
     "text": [
      "Enter your choice:  2\n"
     ]
    },
    {
     "name": "stdout",
     "output_type": "stream",
     "text": [
      "         Date Activity Name  Duration (in minute)  Calories burned\n",
      "0  2025-12-11       walking                    30              500\n",
      "\n",
      "Menu:\n",
      "1. Log a new activity\n",
      "2. View Activity history\n",
      "3. Set and update fitness goals\n",
      "4. View progress reports\n",
      "5. Save Data to CSV\n",
      "6. Calculate BMI\n",
      "7. Get a Health Tip\n",
      "8. Get Exercise Recommendations\n",
      "9. Exit\n"
     ]
    },
    {
     "name": "stdin",
     "output_type": "stream",
     "text": [
      "Enter your choice:  4\n"
     ]
    },
    {
     "name": "stdout",
     "output_type": "stream",
     "text": [
      "\n",
      "Weekly Summary:\n",
      "            Duration (in minute)  Calories burned\n",
      "Date                                             \n",
      "2025-12-15                    30              500\n",
      "\n",
      "Monthly Summary Table:\n",
      "            Duration (in minute)  Calories burned\n",
      "Date                                             \n",
      "2025-12-31                    30              500\n",
      "\n",
      "Current Week's Activity Duration: 30 minutes\n",
      "Weekly Goal: 150 minutes\n",
      "Keep pushing! You're still working towards your weekly duration goal.\n"
     ]
    },
    {
     "name": "stderr",
     "output_type": "stream",
     "text": [
      "C:\\Users\\rafih\\AppData\\Local\\Temp\\ipykernel_4252\\2440714158.py:33: FutureWarning: 'M' is deprecated and will be removed in a future version, please use 'ME' instead.\n",
      "  monthly_summary = df.groupby(pd.Grouper(key='Date', freq='M'))[['Duration (in minute)', 'Calories burned']].sum()\n",
      "C:\\Users\\rafih\\anaconda3\\Lib\\site-packages\\pandas\\plotting\\_matplotlib\\core.py:1561: UserWarning: Attempting to set identical low and high xlims makes transformation singular; automatically expanding.\n",
      "  ax.set_xlim(left, right)\n"
     ]
    },
    {
     "data": {
      "image/png": "[encoded data removed]",
      "text/plain": [
       "<Figure size 640x480 with 1 Axes>"
      ]
     },
     "metadata": {},
     "output_type": "display_data"
    },
    {
     "name": "stdout",
     "output_type": "stream",
     "text": [
      "\n",
      "Menu:\n",
      "1. Log a new activity\n",
      "2. View Activity history\n",
      "3. Set and update fitness goals\n",
      "4. View progress reports\n",
      "5. Save Data to CSV\n",
      "6. Calculate BMI\n",
      "7. Get a Health Tip\n",
      "8. Get Exercise Recommendations\n",
      "9. Exit\n"
     ]
    },
    {
     "name": "stdin",
     "output_type": "stream",
     "text": [
      "Enter your choice:  6\n",
      "Enter your height in meters:  1.6\n",
      "Enter your weight in kilograms:  60\n",
      "Enter your age:  21\n"
     ]
    },
    {
     "name": "stdout",
     "output_type": "stream",
     "text": [
      "Your BMI is: 23.44\n",
      "You have a normal weight. Keep up the good work!\n",
      "\n",
      "Menu:\n",
      "1. Log a new activity\n",
      "2. View Activity history\n",
      "3. Set and update fitness goals\n",
      "4. View progress reports\n",
      "5. Save Data to CSV\n",
      "6. Calculate BMI\n",
      "7. Get a Health Tip\n",
      "8. Get Exercise Recommendations\n",
      "9. Exit\n"
     ]
    },
    {
     "name": "stdin",
     "output_type": "stream",
     "text": [
      "Enter your choice:  7\n"
     ]
    },
    {
     "name": "stdout",
     "output_type": "stream",
     "text": [
      "Today's Health Tip: Include more fruits and vegetables in your meals.\n",
      "\n",
      "Menu:\n",
      "1. Log a new activity\n",
      "2. View Activity history\n",
      "3. Set and update fitness goals\n",
      "4. View progress reports\n",
      "5. Save Data to CSV\n",
      "6. Calculate BMI\n",
      "7. Get a Health Tip\n",
      "8. Get Exercise Recommendations\n",
      "9. Exit\n"
     ]
    },
    {
     "name": "stdin",
     "output_type": "stream",
     "text": [
      "Enter your choice:  8\n",
      "Enter the time you have available (in minutes):  45\n",
      "Enter your calorie-burning target:  700\n"
     ]
    },
    {
     "name": "stdout",
     "output_type": "stream",
     "text": [
      "Recommended Activities:\n",
      "- Jogging (30 minutes): Burns approximately 300 calories.\n",
      "- Cycling (20 minutes): Burns approximately 200 calories.\n",
      "\n",
      "Menu:\n",
      "1. Log a new activity\n",
      "2. View Activity history\n",
      "3. Set and update fitness goals\n",
      "4. View progress reports\n",
      "5. Save Data to CSV\n",
      "6. Calculate BMI\n",
      "7. Get a Health Tip\n",
      "8. Get Exercise Recommendations\n",
      "9. Exit\n"
     ]
    },
    {
     "name": "stdin",
     "output_type": "stream",
     "text": [
      "Enter your choice:  1\n",
      "Enter Date (YYYY-MM-DD):  2026-1-2\n",
      "Enter Activity Name:  walking\n",
      "Enter Duration (in minute):  45\n",
      "Enter Calories burned:  600\n"
     ]
    },
    {
     "name": "stdout",
     "output_type": "stream",
     "text": [
      "\n",
      "Menu:\n",
      "1. Log a new activity\n",
      "2. View Activity history\n",
      "3. Set and update fitness goals\n",
      "4. View progress reports\n",
      "5. Save Data to CSV\n",
      "6. Calculate BMI\n",
      "7. Get a Health Tip\n",
      "8. Get Exercise Recommendations\n",
      "9. Exit\n"
     ]
    },
    {
     "name": "stdin",
     "output_type": "stream",
     "text": [
      "Enter your choice:  1\n",
      "Enter Date (YYYY-MM-DD):  2026-1-4\n",
      "Enter Activity Name:  walking\n",
      "Enter Duration (in minute):  35\n",
      "Enter Calories burned:  700\n"
     ]
    },
    {
     "name": "stdout",
     "output_type": "stream",
     "text": [
      "\n",
      "Menu:\n",
      "1. Log a new activity\n",
      "2. View Activity history\n",
      "3. Set and update fitness goals\n",
      "4. View progress reports\n",
      "5. Save Data to CSV\n",
      "6. Calculate BMI\n",
      "7. Get a Health Tip\n",
      "8. Get Exercise Recommendations\n",
      "9. Exit\n"
     ]
    },
    {
     "name": "stdin",
     "output_type": "stream",
     "text": [
      "Enter your choice:  4\n"
     ]
    },
    {
     "name": "stdout",
     "output_type": "stream",
     "text": [
      "\n",
      "Weekly Summary:\n",
      "            Duration (in minute)  Calories burned\n",
      "Date                                             \n",
      "2025-12-15                    30              500\n",
      "2025-12-22                     0                0\n",
      "2025-12-29                     0                0\n",
      "2026-01-05                    80             1300\n",
      "\n",
      "Monthly Summary Table:\n",
      "            Duration (in minute)  Calories burned\n",
      "Date                                             \n",
      "2025-12-31                    30              500\n",
      "2026-01-31                    80             1300\n",
      "\n",
      "Current Week's Activity Duration: 80 minutes\n",
      "Weekly Goal: 150 minutes\n",
      "Keep pushing! You're still working towards your weekly duration goal.\n"
     ]
    },
    {
     "name": "stderr",
     "output_type": "stream",
     "text": [
      "C:\\Users\\rafih\\AppData\\Local\\Temp\\ipykernel_4252\\2440714158.py:33: FutureWarning: 'M' is deprecated and will be removed in a future version, please use 'ME' instead.\n",
      "  monthly_summary = df.groupby(pd.Grouper(key='Date', freq='M'))[['Duration (in minute)', 'Calories burned']].sum()\n"
     ]
    },
    {
     "data": {
      "image/png": "[encoded data removed]",
      "text/plain": [
       "<Figure size 640x480 with 1 Axes>"
      ]
     },
     "metadata": {},
     "output_type": "display_data"
    },
    {
     "name": "stdout",
     "output_type": "stream",
     "text": [
      "\n",
      "Menu:\n",
      "1. Log a new activity\n",
      "2. View Activity history\n",
      "3. Set and update fitness goals\n",
      "4. View progress reports\n",
      "5. Save Data to CSV\n",
      "6. Calculate BMI\n",
      "7. Get a Health Tip\n",
      "8. Get Exercise Recommendations\n",
      "9. Exit\n"
     ]
    },
    {
     "name": "stdin",
     "output_type": "stream",
     "text": [
      "Enter your choice:  9\n"
     ]
    }
   ],
   "source": [
    "while True:\n",
    "    # Display the menu options\n",
    "    print(\"\\nMenu:\")\n",
    "    print(\"1. Log a new activity\")\n",
    "    print(\"2. View Activity history\")\n",
    "    print(\"3. Set and update fitness goals\")\n",
    "    print(\"4. View progress reports\")\n",
    "    print(\"5. Save Data to CSV\")\n",
    "    print(\"6. Calculate BMI\")\n",
    "    print(\"7. Get a Health Tip\")\n",
    "    print(\"8. Get Exercise Recommendations\")\n",
    "    print(\"9. Exit\")\n",
    "\n",
    "    # Get the user's choice\n",
    "    choice = input(\"Enter your choice: \")\n",
    "\n",
    "    if choice == '1':\n",
    "        log_activity()\n",
    "    elif choice == '2':\n",
    "        view_activity_history()\n",
    "    elif choice == '3':\n",
    "        set_fitness_goals()\n",
    "    elif choice == '4':\n",
    "        view_progress_reports()\n",
    "    elif choice == '5':\n",
    "        save_to_csv()\n",
    "    elif choice == '6':\n",
    "        calculate_bmi()\n",
    "    elif choice == '7':\n",
    "        provide_health_tip()\n",
    "    elif choice == '8':\n",
    "        recommend_exercise()\n",
    "    elif choice == '9':\n",
    "        break\n",
    "    else:\n",
    "        print(\"Invalid choice. Please try again.\")\n"
   ]
  },
  {
   "cell_type": "code",
   "execution_count": null,
   "metadata": {},
   "outputs": [],
   "source": []
  }
 ],
 "metadata": {
  "colab": {
   "provenance": []
  },
  "kernelspec": {
   "display_name": "Python 3 (ipykernel)",
   "language": "python",
   "name": "python3"
  },
  "language_info": {
   "codemirror_mode": {
    "name": "ipython",
    "version": 3
   },
   "file_extension": ".py",
   "mimetype": "text/x-python",
   "name": "python",
   "nbconvert_exporter": "python",
   "pygments_lexer": "ipython3",
   "version": "3.12.4"
  }
 },
 "nbformat": 4,
 "nbformat_minor": 4
}
